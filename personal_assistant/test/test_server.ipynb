{
 "cells": [
  {
   "cell_type": "code",
   "execution_count": 23,
   "metadata": {},
   "outputs": [],
   "source": [
    "from acp_sdk.client import Client\n",
    "from colorama import Fore\n",
    "import asyncio\n",
    "import nest_asyncio\n",
    "\n",
    "# Apply nest_asyncio to allow running async code in Jupyter\n",
    "nest_asyncio.apply()\n",
    "\n",
    "async def test_expense_server():\n",
    "    # Connect to the expense server running on port 8200\n",
    "    async with Client(base_url=\"http://localhost:8200\") as client:\n",
    "        try:\n",
    "            # Test 1: Add an expense\n",
    "            add_expense = await client.run_sync(\n",
    "                agent=\"expense_tracker\",  # Using expense_tracker as the agent name\n",
    "                input=\"Add an expense of $100 for dinner at 5th Element\"\n",
    "            )\n",
    "            print(Fore.GREEN + \"Adding expense:\" + Fore.RESET)\n",
    "            print(add_expense.output[0].parts[0].content)\n",
    "            print(\"\\n\")\n",
    "\n",
    "            # Test 2: List all expenses\n",
    "            list_expenses = await client.run_sync(\n",
    "                agent=\"expense_tracker\",\n",
    "                input=\"Show all my expenses\"\n",
    "            )\n",
    "            print(Fore.BLUE + \"Listing all expenses:\" + Fore.RESET)\n",
    "            print(list_expenses.output[0].parts[0].content)\n",
    "            print(\"\\n\")\n",
    "\n",
    "            # Test 3: Get category summary\n",
    "            category_summary = await client.run_sync(\n",
    "                agent=\"expense_tracker\",\n",
    "                input=\"Show me expenses by category\"\n",
    "            )\n",
    "            print(Fore.YELLOW + \"Category Summary:\" + Fore.RESET)\n",
    "            print(category_summary.output[0].parts[0].content)\n",
    "        except Exception as e:\n",
    "            print(Fore.RED + f\"Error: {str(e)}\" + Fore.RESET)"
   ]
  },
  {
   "cell_type": "code",
   "execution_count": 24,
   "metadata": {},
   "outputs": [
    {
     "name": "stdout",
     "output_type": "stream",
     "text": [
      "\u001b[32mAdding expense:\u001b[39m\n",
      ".\n",
      "\n",
      "\n",
      "\n",
      "\u001b[34mListing all expenses:\u001b[39m\n",
      "Here's a list of all your expenses:\n",
      "\n",
      "$100.00 - Dinner at 5th Element\n",
      "Date: 2025-07-26\n",
      "Category: Food\n",
      "Payment: Credit\n",
      "ID: 8b626596-3805-4b85-91ab-76ca11dc2da2\n",
      "\n",
      "$100.00 - Dinner at 5th Element\n",
      "Date: 2025-07-22\n",
      "Category: Food\n",
      "Payment: Credit\n",
      "ID: 036b40fd-f7d6-4920-bcc6-141995021659\n",
      "\n",
      "$100.00 - Dinner at 5th Element\n",
      "Date: 2025-07-21\n",
      "Category: Food\n",
      "Payment: Credit\n",
      "ID: 466f1f56-a39e-4db3-8862-c5cbf03d5a7b\n",
      "\n",
      "$100.00 - TV at Amazon\n",
      "Date: 2025-07-20\n",
      "Category: Electronics\n",
      "Payment: Credit Card\n",
      "ID: 6448432e-4293-4806-a62a-59ef6972186b\n",
      "\n",
      "Total: $400.00\n",
      "\n",
      "\n",
      "\u001b[33mCategory Summary:\u001b[39m\n",
      "\u001b[31mError: list index out of range\u001b[39m\n"
     ]
    }
   ],
   "source": [
    "\n",
    "await test_expense_server()"
   ]
  },
  {
   "cell_type": "code",
   "execution_count": 9,
   "metadata": {},
   "outputs": [],
   "source": [
    "from acp_sdk.client import Client\n",
    "from colorama import Fore\n",
    "import asyncio\n",
    "import nest_asyncio\n",
    "\n",
    "# Apply nest_asyncio to allow running async code in Jupyter\n",
    "nest_asyncio.apply()\n",
    "\n",
    "async def test_expense_listing():\n",
    "    # Connect to the orchestrator server running on port 8300\n",
    "    async with Client(base_url=\"http://localhost:8300\") as client:\n",
    "        try:         \n",
    "            # Test 1: List recent exp\n",
    "            food_expenses = await client.run_sync(\n",
    "                agent=\"personal_assistant\",  # Using the orchestrator's agent name\n",
    "                input=\"list my expense  user:Akshay12\"\n",
    "            )\n",
    "            print(Fore.GREEN + \"Food Expenses:\" + Fore.RESET)\n",
    "            print(food_expenses.output[0].parts[0].content)\n",
    "            print(\"\\n\")\n",
    "\n",
    "        except Exception as e:\n",
    "            print(Fore.RED + f\"Error: {str(e)}\" + Fore.RESET)"
   ]
  },
  {
   "cell_type": "code",
   "execution_count": 10,
   "metadata": {},
   "outputs": [
    {
     "name": "stdout",
     "output_type": "stream",
     "text": [
      "\u001b[32mFood Expenses:\u001b[39m\n",
      "Here is a list of your expenses, Akshay12! The total is $45.00\n",
      "\n",
      "$45.00 - lunch\n",
      "Date: 2025-07-31\n",
      "Category: Lunch\n",
      "Payment: Credit\n",
      "ID: 557d8ab7-a3ef-4dfc-bdff-194b91aa6b5f\n",
      "\n",
      "\n"
     ]
    }
   ],
   "source": [
    "await test_expense_listing()"
   ]
  },
  {
   "cell_type": "code",
   "execution_count": null,
   "metadata": {},
   "outputs": [],
   "source": [
    "curl -X POST \"http://localhost:8400/query\" \\\n",
    "     -H \"Content-Type: application/json\" \\\n",
    "     -d '{\"query\": \"Show my expenses\", \"user_id\": \"Akshay122\"}'"
   ]
  }
 ],
 "metadata": {
  "kernelspec": {
   "display_name": "Python 3",
   "language": "python",
   "name": "python3"
  },
  "language_info": {
   "codemirror_mode": {
    "name": "ipython",
    "version": 3
   },
   "file_extension": ".py",
   "mimetype": "text/x-python",
   "name": "python",
   "nbconvert_exporter": "python",
   "pygments_lexer": "ipython3",
   "version": "3.11.6"
  }
 },
 "nbformat": 4,
 "nbformat_minor": 2
}
